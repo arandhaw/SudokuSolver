{
 "cells": [
  {
   "cell_type": "code",
   "execution_count": 107,
   "id": "699764b2-c83a-42b9-8a0c-f30d09769ca2",
   "metadata": {},
   "outputs": [],
   "source": [
    "import numpy as np\n",
    "import tkinter as tk\n",
    "import copy"
   ]
  },
  {
   "cell_type": "code",
   "execution_count": 126,
   "id": "740fb669-9afe-41ee-b916-a3862b067369",
   "metadata": {},
   "outputs": [],
   "source": [
    "problem =  [[1, 0, 0, 0, 8, 4, 0, 0, 0], \n",
    "            [0, 0, 0, 1, 0, 0, 6, 0, 0], \n",
    "            [0, 0, 0, 0, 9, 0, 0, 0, 0], \n",
    "            [4, 0, 0, 7, 0, 0, 0, 8, 0],\n",
    "            [3, 0, 0, 4, 0, 0, 0, 6, 0],\n",
    "            [5, 0, 1, 0, 2, 8, 0, 7, 3],\n",
    "            [0, 0, 0, 6, 0, 0, 0, 0, 5],\n",
    "            [0, 0, 7, 0, 0, 1, 0, 0, 0], \n",
    "            [0, 0, 0, 5, 4, 0, 0, 0, 8]]"
   ]
  },
  {
   "cell_type": "code",
   "execution_count": 130,
   "id": "737ab01b",
   "metadata": {},
   "outputs": [],
   "source": [
    "problem1 = [[1,0,0,4,8,9,0,0,6], \n",
    "            [7,3,0,0,0,0,0,4,0], \n",
    "            [0,0,0,0,0,1,2,9,5], \n",
    "            [0,0,7,1,2,0,6,0,0],\n",
    "            [5,0,0,7,0,3,0,0,8],\n",
    "            [0,0,6,0,9,5,7,0,0],\n",
    "            [9,1,4,6,0,0,0,0,0],\n",
    "            [0,2,0,0,0,0,0,3,7], \n",
    "            [8,0,0,5,1,2,0,0,4]]"
   ]
  },
  {
   "cell_type": "code",
   "execution_count": 109,
   "id": "62f14aa5",
   "metadata": {},
   "outputs": [],
   "source": [
    "problem2 = [[0,0,0,6,0,0,4,0,0], \n",
    "            [7,0,0,0,0,3,6,0,0], \n",
    "            [0,0,0,0,9,1,0,8,0],\n",
    "            [0,0,0,0,0,0,0,0,0], \n",
    "            [0,5,0,1,8,0,0,0,3],\n",
    "            [0,0,0,3,0,6,0,4,5],\n",
    "            [0,4,0,2,0,0,0,6,0],\n",
    "            [9,0,3,0,0,0,0,0,0],\n",
    "            [0,2,0,0,0,0,1,0,0]]"
   ]
  },
  {
   "cell_type": "code",
   "execution_count": 128,
   "id": "c4475c30-70a0-45d1-9f3d-ed7a153bfa74",
   "metadata": {},
   "outputs": [],
   "source": [
    "# return list of unfilled squares as (x, y) pairs\n",
    "def getNodeList(problem):\n",
    "    nodes = []\n",
    "    for i in range(9):\n",
    "        for j in range(9):\n",
    "            if problem[i, j] == 0:\n",
    "                nodes += [(i, j)]\n",
    "    return nodes\n",
    "\n",
    "# used to optimize order of nodelist\n",
    "def optimizer(point, sudoku):\n",
    "    cell = np.array(point)//3\n",
    "    x = np.count_nonzero( sudoku[point[0],:] ) \n",
    "    y = np.count_nonzero( sudoku[:,point[1]] )\n",
    "    z = np.count_nonzero( sudoku[3*cell[0]:3*cell[0]+3 , 3*cell[1]:3*cell[1]+3])\n",
    "    return x + y + z\n",
    "\n",
    "#returns true if a contradiction is found for a value being in a certain position\n",
    "def contradiction(num, px, py, sudoku):\n",
    "    for i in range(9):\n",
    "        if num == sudoku[px][i]:\n",
    "            return True\n",
    "        if num == sudoku[i][py]:\n",
    "            return True\n",
    "        if num == sudoku[3*(px//3) + i//3][3*(py//3) + i%3]:\n",
    "            return True\n",
    "    return False\n",
    "\n",
    "# recursive helper function\n",
    "def recurse(state, nodelist, depth = 0):\n",
    "    px, py = nodelist[depth]\n",
    "    for i in range(1, 10):\n",
    "        if contradiction(i, px, py, state):  # try something else if contradiction found\n",
    "            continue\n",
    "        elif depth == len(nodelist) - 1:    # if sudoku filled, end recursion\n",
    "            state[px][py] = i\n",
    "            return True\n",
    "        else:\n",
    "            state[px][py] = i\n",
    "            if recurse(state, nodelist, depth = depth + 1):\n",
    "                return True\n",
    "            else:\n",
    "                state[px][py] = 0       # backtrack if recursion fails\n",
    "    return False    # no possible solution\n",
    "        \n",
    "\n",
    "def findSolution(problem):\n",
    "    problem = copy.deepcopy(problem)\n",
    "    nodelist = getNodeList(np.array(problem))\n",
    "    nodelist = sorted(nodelist, key=lambda x: optimizer(x, np.array(problem)), reverse = True)\n",
    "    foundSolution = recurse(problem, nodelist)\n",
    "    if foundSolution == True:\n",
    "        return problem\n",
    "    else:\n",
    "        return None\n"
   ]
  },
  {
   "cell_type": "code",
   "execution_count": 131,
   "id": "e8a0e165-bb06-4aeb-87e1-8ca40d7c6d7d",
   "metadata": {},
   "outputs": [
    {
     "data": {
      "text/plain": [
       "[[1, 5, 2, 4, 8, 9, 3, 7, 6],\n",
       " [7, 3, 9, 2, 5, 6, 8, 4, 1],\n",
       " [4, 6, 8, 3, 7, 1, 2, 9, 5],\n",
       " [3, 8, 7, 1, 2, 4, 6, 5, 9],\n",
       " [5, 9, 1, 7, 6, 3, 4, 2, 8],\n",
       " [2, 4, 6, 8, 9, 5, 7, 1, 3],\n",
       " [9, 1, 4, 6, 3, 7, 5, 8, 2],\n",
       " [6, 2, 5, 9, 4, 8, 1, 3, 7],\n",
       " [8, 7, 3, 5, 1, 2, 9, 6, 4]]"
      ]
     },
     "execution_count": 131,
     "metadata": {},
     "output_type": "execute_result"
    }
   ],
   "source": [
    "answer = findSolution(problem1)\n",
    "answer"
   ]
  },
  {
   "cell_type": "code",
   "execution_count": 117,
   "id": "aede03d6-a552-43bc-9898-41a13175ab00",
   "metadata": {},
   "outputs": [],
   "source": [
    "def checkSolution(answer):\n",
    "    answer = np.array(answer)\n",
    "    rowSum = np.zeros(9) + 45\n",
    "    sol = True\n",
    "    if np.sum(answer) != 45*9:\n",
    "        sol = False\n",
    "    if (np.sum(answer, axis = 0) != rowSum).all():\n",
    "        sol = False\n",
    "    if (np.sum(answer, axis = 1) != rowSum).all():\n",
    "        sol = False\n",
    "    for i in (0, 1, 2):\n",
    "        for j in (0, 1, 2):\n",
    "            if np.sum(answer[3*i: 3*i + 3, 3*j: 3*j + 3]) != 45:\n",
    "                sol = False\n",
    "    return sol\n",
    "    "
   ]
  },
  {
   "cell_type": "code",
   "execution_count": 118,
   "id": "43420e40-c40d-4c0d-8ad5-f59cc8d81101",
   "metadata": {},
   "outputs": [
    {
     "name": "stdout",
     "output_type": "stream",
     "text": [
      "True\n"
     ]
    }
   ],
   "source": [
    "print(checkSolution(answer))"
   ]
  },
  {
   "cell_type": "code",
   "execution_count": null,
   "id": "f8c3b0ed",
   "metadata": {},
   "outputs": [],
   "source": [
    "# return list of unfilled squares as (x, y) pairs\n",
    "def getNodeList(problem):\n",
    "    nodes = []\n",
    "    for i in range(9):\n",
    "        for j in range(9):\n",
    "            if problem[i, j] == 0:\n",
    "                nodes += [(i, j)]\n",
    "    return nodes\n",
    "\n",
    "# used to optimize order of nodelist\n",
    "def optimizer(point, sudoku):\n",
    "    cell = np.array(point)//3\n",
    "    x = np.count_nonzero( sudoku[point[0],:] ) \n",
    "    y = np.count_nonzero( sudoku[:,point[1]] )\n",
    "    z = np.count_nonzero( sudoku[3*cell[0]:3*cell[0]+3 , 3*cell[1]:3*cell[1]+3])\n",
    "    return x + y + z\n",
    "\n",
    "#returns true if a contradiction is found for a value being in a certain position\n",
    "def contradiction(num, point, sudoku):\n",
    "    cell = np.array(point)//3\n",
    "    if num in sudoku[point[0],:]:\n",
    "        return True\n",
    "    if num in sudoku[:,point[1]]:\n",
    "        return True\n",
    "    if num in sudoku[3*cell[0]:3*cell[0]+3 , 3*cell[1]:3*cell[1]+3]:\n",
    "        return True\n",
    "    return False\n",
    "\n",
    "# recursive helper function\n",
    "def recurse(state, nodelist, depth = 0):\n",
    "    point = nodelist[depth]\n",
    "    for i in range(1, 10):\n",
    "        if contradiction(i, point, state):  # try something else if contradiction found\n",
    "            continue\n",
    "        elif depth == len(nodelist) - 1:    # if sudoku filled, end recursion\n",
    "            state[point] = i\n",
    "            return True\n",
    "        else:\n",
    "            state[point] = i\n",
    "            if recurse(state, nodelist, depth = depth + 1):\n",
    "                return True\n",
    "            else:\n",
    "                state[point] = 0       # backtrack if recursion fails\n",
    "    return False    # no possible solution\n",
    "        \n",
    "\n",
    "def findSolution(problem):\n",
    "    problem = problem.copy()\n",
    "    nodelist = getNodeList(problem)\n",
    "    nodelist = sorted(nodelist, key=lambda x: optimizer(x, problem), reverse = True)\n",
    "    foundSolution = recurse(problem, nodelist)\n",
    "    if foundSolution == True:\n",
    "        return problem\n",
    "    else:\n",
    "        return None\n"
   ]
  }
 ],
 "metadata": {
  "kernelspec": {
   "display_name": "Python 3 (ipykernel)",
   "language": "python",
   "name": "python3"
  },
  "language_info": {
   "codemirror_mode": {
    "name": "ipython",
    "version": 3
   },
   "file_extension": ".py",
   "mimetype": "text/x-python",
   "name": "python",
   "nbconvert_exporter": "python",
   "pygments_lexer": "ipython3",
   "version": "3.10.2"
  }
 },
 "nbformat": 4,
 "nbformat_minor": 5
}
